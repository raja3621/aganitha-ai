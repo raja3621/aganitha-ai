{
 "cells": [
  {
   "cell_type": "code",
   "execution_count": 10,
   "metadata": {},
   "outputs": [],
   "source": [
    "reference_dictionary = \\\n",
    "{\n",
    "    'dollars': '$',\n",
    "    'rupees' : 'Rs',\n",
    "    'one':1,\n",
    "    'two':2,\n",
    "    'three':3,\n",
    "    'four':4,\n",
    "    'five':5,\n",
    "    'A': 'A',\n",
    "    'B':'B',\n",
    "    'C':'C',\n",
    "    'M':'M'\n",
    "}\n",
    "\n",
    "quantity_short_form_dictionary = \\\n",
    "{\n",
    "    'single':1,\n",
    "    'double':2,\n",
    "    'triple':3\n",
    "}"
   ]
  },
  {
   "cell_type": "code",
   "execution_count": 24,
   "metadata": {},
   "outputs": [],
   "source": [
    "def convert_spoken_english_2_written_english(spoken_english):\n",
    "    \n",
    "    words_in_spoken_english = spoken_english.split()    \n",
    "    hand_written_english = \"\"\n",
    "    \n",
    "    keys_of_reference_dict = list(reference_dictionary.keys())\n",
    "    keys_of_quantity_short_form_dict = list(quantity_short_form_dictionary.keys())\n",
    "    \n",
    "    repeat_flag = False\n",
    "    num_repeats = 0\n",
    "    \n",
    "    \n",
    "    for word in words_in_spoken_english:\n",
    "        \n",
    "        if word in keys_of_reference_dict:\n",
    "            hand_written_word = reference_dictionary[word]\n",
    "            hand_written_english += str(hand_written_word)\n",
    "            \n",
    "        elif word in keys_of_quantity_short_form_dict:\n",
    "            repeat_flag = True\n",
    "            num_repeats = quantity_short_form_dictionary[word]\n",
    "            \n",
    "    if repeat_flag == True:\n",
    "        hand_written_english = hand_written_english*num_repeats\n",
    "            \n",
    "    \n",
    "    return hand_written_english \n",
    "    \n",
    "    "
   ]
  },
  {
   "cell_type": "code",
   "execution_count": 25,
   "metadata": {},
   "outputs": [
    {
     "name": "stdout",
     "output_type": "stream",
     "text": [
      "two dollars -> 2$\n",
      "C M -> CM\n",
      "triple A -> AAA\n"
     ]
    }
   ],
   "source": [
    "base_case_inputs = ['two dollars','C M','triple A']\n",
    "\n",
    "for base_case in base_case_inputs:\n",
    "    hand_written_english = convert_spoken_english_2_written_english(base_case)\n",
    "    print(base_case+' -> '+hand_written_english)"
   ]
  }
 ],
 "metadata": {
  "kernelspec": {
   "display_name": "Python 3",
   "language": "python",
   "name": "python3"
  },
  "language_info": {
   "codemirror_mode": {
    "name": "ipython",
    "version": 3
   },
   "file_extension": ".py",
   "mimetype": "text/x-python",
   "name": "python",
   "nbconvert_exporter": "python",
   "pygments_lexer": "ipython3",
   "version": "3.7.6"
  }
 },
 "nbformat": 4,
 "nbformat_minor": 4
}
